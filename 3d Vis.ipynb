{
 "cells": [
  {
   "cell_type": "code",
   "execution_count": 1,
   "id": "ceb0ba9f",
   "metadata": {},
   "outputs": [
    {
     "name": "stdout",
     "output_type": "stream",
     "text": [
      "Atom name: C1, Residue name: UNL, Chain:  , Model: 0\n",
      "Atom name: C2, Residue name: UNL, Chain:  , Model: 0\n",
      "Atom name: O1, Residue name: UNL, Chain:  , Model: 0\n",
      "Atom name: N1, Residue name: UNL, Chain:  , Model: 0\n",
      "Atom name: C3, Residue name: UNL, Chain:  , Model: 0\n",
      "Atom name: C4, Residue name: UNL, Chain:  , Model: 0\n",
      "Atom name: O2, Residue name: UNL, Chain:  , Model: 0\n",
      "Atom name: C5, Residue name: UNL, Chain:  , Model: 0\n",
      "Atom name: O3, Residue name: UNL, Chain:  , Model: 0\n",
      "Atom name: C6, Residue name: UNL, Chain:  , Model: 0\n",
      "Atom name: O4, Residue name: UNL, Chain:  , Model: 0\n",
      "Atom name: C7, Residue name: UNL, Chain:  , Model: 0\n",
      "Atom name: O5, Residue name: UNL, Chain:  , Model: 0\n",
      "Atom name: C8, Residue name: UNL, Chain:  , Model: 0\n",
      "Atom name: O6, Residue name: UNL, Chain:  , Model: 0\n",
      "Atom name: C9, Residue name: UNL, Chain:  , Model: 0\n",
      "Atom name: O7, Residue name: UNL, Chain:  , Model: 0\n",
      "Atom name: O8, Residue name: UNL, Chain:  , Model: 0\n",
      "Atom name: C10, Residue name: UNL, Chain:  , Model: 0\n",
      "Atom name: C11, Residue name: UNL, Chain:  , Model: 0\n",
      "Atom name: O9, Residue name: UNL, Chain:  , Model: 0\n",
      "Atom name: H1, Residue name: UNL, Chain:  , Model: 0\n",
      "Atom name: H2, Residue name: UNL, Chain:  , Model: 0\n",
      "Atom name: H3, Residue name: UNL, Chain:  , Model: 0\n",
      "Atom name: H4, Residue name: UNL, Chain:  , Model: 0\n",
      "Atom name: H5, Residue name: UNL, Chain:  , Model: 0\n",
      "Atom name: H6, Residue name: UNL, Chain:  , Model: 0\n",
      "Atom name: H7, Residue name: UNL, Chain:  , Model: 0\n",
      "Atom name: H8, Residue name: UNL, Chain:  , Model: 0\n",
      "Atom name: H9, Residue name: UNL, Chain:  , Model: 0\n",
      "Atom name: H10, Residue name: UNL, Chain:  , Model: 0\n",
      "Atom name: H11, Residue name: UNL, Chain:  , Model: 0\n",
      "Atom name: H12, Residue name: UNL, Chain:  , Model: 0\n",
      "Atom name: H13, Residue name: UNL, Chain:  , Model: 0\n",
      "Atom name: H14, Residue name: UNL, Chain:  , Model: 0\n",
      "Atom name: H15, Residue name: UNL, Chain:  , Model: 0\n",
      "Atom name: H16, Residue name: UNL, Chain:  , Model: 0\n",
      "Atom name: H17, Residue name: UNL, Chain:  , Model: 0\n",
      "Atom name: H18, Residue name: UNL, Chain:  , Model: 0\n",
      "Atom name: H19, Residue name: UNL, Chain:  , Model: 0\n"
     ]
    }
   ],
   "source": [
    "from Bio import PDB\n",
    "\n",
    "# Replace 'your_pdb_file.pdb' with the path to your PDB file\n",
    "pdb_file = 'output1.pdb'\n",
    "\n",
    "# Create a PDBParser object\n",
    "parser = PDB.PDBParser(QUIET=True)\n",
    "\n",
    "try:\n",
    "    # Parse the PDB file\n",
    "    structure = parser.get_structure('my_structure', pdb_file)\n",
    "    \n",
    "    # Iterate through the structure and print information about each atom\n",
    "    for model in structure:\n",
    "        for chain in model:\n",
    "            for residue in chain:\n",
    "                for atom in residue:\n",
    "                    print(f\"Atom name: {atom.name}, Residue name: {residue.resname}, Chain: {chain.id}, Model: {model.id}\")\n",
    "\n",
    "except PDB.PDBException as e:\n",
    "    print(f\"An error occurred while parsing the PDB file: {e}\")\n"
   ]
  },
  {
   "cell_type": "code",
   "execution_count": 2,
   "id": "7482c4cf",
   "metadata": {},
   "outputs": [
    {
     "data": {
      "application/3dmoljs_load.v0": "<div id=\"3dmolviewer_16967716165172627\"  style=\"position: relative; width: 300px; height: 300px;\">\n        <p id=\"3dmolwarning_16967716165172627\" style=\"background-color:#ffcccc;color:black\">You appear to be running in JupyterLab (or JavaScript failed to load for some other reason).  You need to install the 3dmol extension: <br>\n        <tt>jupyter labextension install jupyterlab_3dmol</tt></p>\n        </div>\n<script>\n\nvar loadScriptAsync = function(uri){\n  return new Promise((resolve, reject) => {\n    //this is to ignore the existence of requirejs amd\n    var savedexports, savedmodule;\n    if (typeof exports !== 'undefined') savedexports = exports;\n    else exports = {}\n    if (typeof module !== 'undefined') savedmodule = module;\n    else module = {}\n\n    var tag = document.createElement('script');\n    tag.src = uri;\n    tag.async = true;\n    tag.onload = () => {\n        exports = savedexports;\n        module = savedmodule;\n        resolve();\n    };\n  var firstScriptTag = document.getElementsByTagName('script')[0];\n  firstScriptTag.parentNode.insertBefore(tag, firstScriptTag);\n});\n};\n\nif(typeof $3Dmolpromise === 'undefined') {\n$3Dmolpromise = null;\n  $3Dmolpromise = loadScriptAsync('https://cdnjs.cloudflare.com/ajax/libs/3Dmol/2.0.4/3Dmol-min.js');\n}\n\nvar viewer_16967716165172627 = null;\nvar warn = document.getElementById(\"3dmolwarning_16967716165172627\");\nif(warn) {\n    warn.parentNode.removeChild(warn);\n}\n$3Dmolpromise.then(function() {\nviewer_16967716165172627 = $3Dmol.createViewer(document.getElementById(\"3dmolviewer_16967716165172627\"),{backgroundColor:\"white\"});\nviewer_16967716165172627.zoomTo();\n\tviewer_16967716165172627.addModel(\"HETATM    1  C1  UNL     1      -2.025  -1.728   1.942  1.00  0.00           C  \\nHETATM    2  C2  UNL     1      -0.718  -1.336   2.559  1.00  0.00           C  \\nHETATM    3  O1  UNL     1      -0.453  -1.739   3.724  1.00  0.00           O  \\nHETATM    4  N1  UNL     1       0.241  -0.515   1.871  1.00  0.00           N  \\nHETATM    5  C3  UNL     1       0.133  -0.104   0.462  1.00  0.00           C  \\nHETATM    6  C4  UNL     1       0.487   1.407   0.299  1.00  0.00           C  \\nHETATM    7  O2  UNL     1       1.813   1.655   0.704  1.00  0.00           O  \\nHETATM    8  C5  UNL     1      -0.496   2.400   0.989  1.00  0.00           C  \\nHETATM    9  O3  UNL     1      -0.740   2.024   2.321  1.00  0.00           O  \\nHETATM   10  C6  UNL     1      -1.822   2.580   0.221  1.00  0.00           C  \\nHETATM   11  O4  UNL     1      -2.659   1.465   0.360  1.00  0.00           O  \\nHETATM   12  C7  UNL     1       1.056  -1.011  -0.394  1.00  0.00           C  \\nHETATM   13  O5  UNL     1       0.764  -2.371  -0.133  1.00  0.00           O  \\nHETATM   14  C8  UNL     1       0.650  -3.054  -1.368  1.00  0.00           C  \\nHETATM   15  O6  UNL     1       1.448  -4.212  -1.348  1.00  0.00           O  \\nHETATM   16  C9  UNL     1      -0.798  -3.450  -1.566  1.00  0.00           C  \\nHETATM   17  O7  UNL     1      -1.327  -4.280  -0.779  1.00  0.00           O  \\nHETATM   18  O8  UNL     1      -1.566  -2.899  -2.590  1.00  0.00           O  \\nHETATM   19  C10 UNL     1       1.161  -2.129  -2.470  1.00  0.00           C  \\nHETATM   20  C11 UNL     1       0.920  -0.764  -1.897  1.00  0.00           C  \\nHETATM   21  O9  UNL     1       1.885   0.151  -2.348  1.00  0.00           O  \\nHETATM   22  H1  UNL     1      -2.599  -2.383   2.631  1.00  0.00           H  \\nHETATM   23  H2  UNL     1      -2.630  -0.824   1.735  1.00  0.00           H  \\nHETATM   24  H3  UNL     1      -1.848  -2.283   0.999  1.00  0.00           H  \\nHETATM   25  H4  UNL     1       1.149  -0.351   2.360  1.00  0.00           H  \\nHETATM   26  H5  UNL     1      -0.902  -0.253   0.100  1.00  0.00           H  \\nHETATM   27  H6  UNL     1       0.450   1.647  -0.784  1.00  0.00           H  \\nHETATM   28  H7  UNL     1       1.828   1.721   1.694  1.00  0.00           H  \\nHETATM   29  H8  UNL     1       0.007   3.396   0.984  1.00  0.00           H  \\nHETATM   30  H9  UNL     1      -1.129   2.815   2.777  1.00  0.00           H  \\nHETATM   31  H10 UNL     1      -2.341   3.495   0.588  1.00  0.00           H  \\nHETATM   32  H11 UNL     1      -1.618   2.743  -0.859  1.00  0.00           H  \\nHETATM   33  H12 UNL     1      -3.131   1.567   1.227  1.00  0.00           H  \\nHETATM   34  H13 UNL     1       2.113  -0.837  -0.089  1.00  0.00           H  \\nHETATM   35  H14 UNL     1       1.287  -4.673  -0.483  1.00  0.00           H  \\nHETATM   36  H15 UNL     1      -2.537  -3.160  -2.710  1.00  0.00           H  \\nHETATM   37  H16 UNL     1       0.659  -2.268  -3.452  1.00  0.00           H  \\nHETATM   38  H17 UNL     1       2.255  -2.283  -2.615  1.00  0.00           H  \\nHETATM   39  H18 UNL     1      -0.110  -0.421  -2.157  1.00  0.00           H  \\nHETATM   40  H19 UNL     1       1.630   0.393  -3.277  1.00  0.00           H  \\nCONECT    1    2   22   23   24\\nCONECT    2    3    3    4\\nCONECT    4    5   25\\nCONECT    5    6   12   26\\nCONECT    6    7    8   27\\nCONECT    7   28\\nCONECT    8    9   10   29\\nCONECT    9   30\\nCONECT   10   11   31   32\\nCONECT   11   33\\nCONECT   12   13   20   34\\nCONECT   13   14\\nCONECT   14   15   16   19\\nCONECT   15   35\\nCONECT   16   17   17   18\\nCONECT   18   36\\nCONECT   19   20   37   38\\nCONECT   20   21   39\\nCONECT   21   40\\nEND\\n\");\n\tviewer_16967716165172627.setStyle({\"stick\": {}});\n\tviewer_16967716165172627.zoomTo();\nviewer_16967716165172627.render();\n});\n</script>",
      "text/html": [
       "<div id=\"3dmolviewer_16967716165172627\"  style=\"position: relative; width: 300px; height: 300px;\">\n",
       "        <p id=\"3dmolwarning_16967716165172627\" style=\"background-color:#ffcccc;color:black\">You appear to be running in JupyterLab (or JavaScript failed to load for some other reason).  You need to install the 3dmol extension: <br>\n",
       "        <tt>jupyter labextension install jupyterlab_3dmol</tt></p>\n",
       "        </div>\n",
       "<script>\n",
       "\n",
       "var loadScriptAsync = function(uri){\n",
       "  return new Promise((resolve, reject) => {\n",
       "    //this is to ignore the existence of requirejs amd\n",
       "    var savedexports, savedmodule;\n",
       "    if (typeof exports !== 'undefined') savedexports = exports;\n",
       "    else exports = {}\n",
       "    if (typeof module !== 'undefined') savedmodule = module;\n",
       "    else module = {}\n",
       "\n",
       "    var tag = document.createElement('script');\n",
       "    tag.src = uri;\n",
       "    tag.async = true;\n",
       "    tag.onload = () => {\n",
       "        exports = savedexports;\n",
       "        module = savedmodule;\n",
       "        resolve();\n",
       "    };\n",
       "  var firstScriptTag = document.getElementsByTagName('script')[0];\n",
       "  firstScriptTag.parentNode.insertBefore(tag, firstScriptTag);\n",
       "});\n",
       "};\n",
       "\n",
       "if(typeof $3Dmolpromise === 'undefined') {\n",
       "$3Dmolpromise = null;\n",
       "  $3Dmolpromise = loadScriptAsync('https://cdnjs.cloudflare.com/ajax/libs/3Dmol/2.0.4/3Dmol-min.js');\n",
       "}\n",
       "\n",
       "var viewer_16967716165172627 = null;\n",
       "var warn = document.getElementById(\"3dmolwarning_16967716165172627\");\n",
       "if(warn) {\n",
       "    warn.parentNode.removeChild(warn);\n",
       "}\n",
       "$3Dmolpromise.then(function() {\n",
       "viewer_16967716165172627 = $3Dmol.createViewer(document.getElementById(\"3dmolviewer_16967716165172627\"),{backgroundColor:\"white\"});\n",
       "viewer_16967716165172627.zoomTo();\n",
       "\tviewer_16967716165172627.addModel(\"HETATM    1  C1  UNL     1      -2.025  -1.728   1.942  1.00  0.00           C  \\nHETATM    2  C2  UNL     1      -0.718  -1.336   2.559  1.00  0.00           C  \\nHETATM    3  O1  UNL     1      -0.453  -1.739   3.724  1.00  0.00           O  \\nHETATM    4  N1  UNL     1       0.241  -0.515   1.871  1.00  0.00           N  \\nHETATM    5  C3  UNL     1       0.133  -0.104   0.462  1.00  0.00           C  \\nHETATM    6  C4  UNL     1       0.487   1.407   0.299  1.00  0.00           C  \\nHETATM    7  O2  UNL     1       1.813   1.655   0.704  1.00  0.00           O  \\nHETATM    8  C5  UNL     1      -0.496   2.400   0.989  1.00  0.00           C  \\nHETATM    9  O3  UNL     1      -0.740   2.024   2.321  1.00  0.00           O  \\nHETATM   10  C6  UNL     1      -1.822   2.580   0.221  1.00  0.00           C  \\nHETATM   11  O4  UNL     1      -2.659   1.465   0.360  1.00  0.00           O  \\nHETATM   12  C7  UNL     1       1.056  -1.011  -0.394  1.00  0.00           C  \\nHETATM   13  O5  UNL     1       0.764  -2.371  -0.133  1.00  0.00           O  \\nHETATM   14  C8  UNL     1       0.650  -3.054  -1.368  1.00  0.00           C  \\nHETATM   15  O6  UNL     1       1.448  -4.212  -1.348  1.00  0.00           O  \\nHETATM   16  C9  UNL     1      -0.798  -3.450  -1.566  1.00  0.00           C  \\nHETATM   17  O7  UNL     1      -1.327  -4.280  -0.779  1.00  0.00           O  \\nHETATM   18  O8  UNL     1      -1.566  -2.899  -2.590  1.00  0.00           O  \\nHETATM   19  C10 UNL     1       1.161  -2.129  -2.470  1.00  0.00           C  \\nHETATM   20  C11 UNL     1       0.920  -0.764  -1.897  1.00  0.00           C  \\nHETATM   21  O9  UNL     1       1.885   0.151  -2.348  1.00  0.00           O  \\nHETATM   22  H1  UNL     1      -2.599  -2.383   2.631  1.00  0.00           H  \\nHETATM   23  H2  UNL     1      -2.630  -0.824   1.735  1.00  0.00           H  \\nHETATM   24  H3  UNL     1      -1.848  -2.283   0.999  1.00  0.00           H  \\nHETATM   25  H4  UNL     1       1.149  -0.351   2.360  1.00  0.00           H  \\nHETATM   26  H5  UNL     1      -0.902  -0.253   0.100  1.00  0.00           H  \\nHETATM   27  H6  UNL     1       0.450   1.647  -0.784  1.00  0.00           H  \\nHETATM   28  H7  UNL     1       1.828   1.721   1.694  1.00  0.00           H  \\nHETATM   29  H8  UNL     1       0.007   3.396   0.984  1.00  0.00           H  \\nHETATM   30  H9  UNL     1      -1.129   2.815   2.777  1.00  0.00           H  \\nHETATM   31  H10 UNL     1      -2.341   3.495   0.588  1.00  0.00           H  \\nHETATM   32  H11 UNL     1      -1.618   2.743  -0.859  1.00  0.00           H  \\nHETATM   33  H12 UNL     1      -3.131   1.567   1.227  1.00  0.00           H  \\nHETATM   34  H13 UNL     1       2.113  -0.837  -0.089  1.00  0.00           H  \\nHETATM   35  H14 UNL     1       1.287  -4.673  -0.483  1.00  0.00           H  \\nHETATM   36  H15 UNL     1      -2.537  -3.160  -2.710  1.00  0.00           H  \\nHETATM   37  H16 UNL     1       0.659  -2.268  -3.452  1.00  0.00           H  \\nHETATM   38  H17 UNL     1       2.255  -2.283  -2.615  1.00  0.00           H  \\nHETATM   39  H18 UNL     1      -0.110  -0.421  -2.157  1.00  0.00           H  \\nHETATM   40  H19 UNL     1       1.630   0.393  -3.277  1.00  0.00           H  \\nCONECT    1    2   22   23   24\\nCONECT    2    3    3    4\\nCONECT    4    5   25\\nCONECT    5    6   12   26\\nCONECT    6    7    8   27\\nCONECT    7   28\\nCONECT    8    9   10   29\\nCONECT    9   30\\nCONECT   10   11   31   32\\nCONECT   11   33\\nCONECT   12   13   20   34\\nCONECT   13   14\\nCONECT   14   15   16   19\\nCONECT   15   35\\nCONECT   16   17   17   18\\nCONECT   18   36\\nCONECT   19   20   37   38\\nCONECT   20   21   39\\nCONECT   21   40\\nEND\\n\");\n",
       "\tviewer_16967716165172627.setStyle({\"stick\": {}});\n",
       "\tviewer_16967716165172627.zoomTo();\n",
       "viewer_16967716165172627.render();\n",
       "});\n",
       "</script>"
      ]
     },
     "metadata": {},
     "output_type": "display_data"
    }
   ],
   "source": [
    "import py3Dmol\n",
    "# Create a 3Dmol view object\n",
    "viewer = py3Dmol.view(width=300, height=300)\n",
    "\n",
    "# Load and visualize the PDB file\n",
    "with open('AwtCE0.pdb', 'r') as pdb_file:\n",
    "    pdb_data = pdb_file.read()\n",
    "    viewer.addModel(pdb_data, format='pdb')\n",
    "\n",
    "# Style and view the 3D structure\n",
    "viewer.setStyle({'stick': {}})\n",
    "viewer.zoomTo()\n",
    "viewer.show()"
   ]
  },
  {
   "cell_type": "code",
   "execution_count": 6,
   "id": "a9ae82ea",
   "metadata": {
    "scrolled": true
   },
   "outputs": [
    {
     "data": {
      "application/vnd.jupyter.widget-view+json": {
       "model_id": "c7f75398df844c31be3b672b201bd84b",
       "version_major": 2,
       "version_minor": 0
      },
      "text/plain": [
       "NGLWidget()"
      ]
     },
     "metadata": {},
     "output_type": "display_data"
    }
   ],
   "source": [
    "import nglview as nv\n",
    "view = nv.demo()\n",
    "view"
   ]
  },
  {
   "cell_type": "code",
   "execution_count": null,
   "id": "cf52279a",
   "metadata": {},
   "outputs": [],
   "source": []
  }
 ],
 "metadata": {
  "kernelspec": {
   "display_name": "Python 3 (ipykernel)",
   "language": "python",
   "name": "python3"
  },
  "language_info": {
   "codemirror_mode": {
    "name": "ipython",
    "version": 3
   },
   "file_extension": ".py",
   "mimetype": "text/x-python",
   "name": "python",
   "nbconvert_exporter": "python",
   "pygments_lexer": "ipython3",
   "version": "3.9.18"
  }
 },
 "nbformat": 4,
 "nbformat_minor": 5
}
