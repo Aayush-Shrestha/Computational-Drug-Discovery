{
 "cells": [
  {
   "cell_type": "markdown",
   "metadata": {},
   "source": [
    "## This can be run on Google Colab notebooks"
   ]
  },
  {
   "cell_type": "code",
   "execution_count": null,
   "metadata": {
    "id": "g3r_MXvTIhtF"
   },
   "outputs": [],
   "source": [
    "#Import Libraries\n",
    "from google.colab import files\n",
    "from tensorflow.keras.applications import ResNet50\n",
    "from tensorflow.keras import layers, models\n",
    "from tensorflow.keras.preprocessing.image import ImageDataGenerator\n",
    "from sklearn.model_selection import train_test_split\n",
    "import os\n",
    "import zipfile\n",
    "import tensorflow as tf\n",
    "from google.colab import drive"
   ]
  },
  {
   "cell_type": "code",
   "execution_count": null,
   "metadata": {
    "colab": {
     "base_uri": "https://localhost:8080/",
     "height": 73
    },
    "id": "ZCyYk43EJcYb",
    "outputId": "18b07c16-6020-4536-ba90-132590f1d64d"
   },
   "outputs": [],
   "source": [
    "# Upload a zip file containing your train and test folders\n",
    "uploaded = files.upload()\n",
    "\n",
    "# Specify the name of the uploaded zip file\n",
    "zip_file_name = next(iter(uploaded))\n",
    "\n",
    "# Create a directory to extract the contents\n",
    "extracted_dir = 'extracted_images'\n",
    "os.makedirs(extracted_dir, exist_ok=True)"
   ]
  },
  {
   "cell_type": "code",
   "execution_count": null,
   "metadata": {
    "colab": {
     "base_uri": "https://localhost:8080/"
    },
    "id": "47iE6nOBZZOO",
    "outputId": "9ddd3993-ede0-4396-8875-a0a7b4627a55"
   },
   "outputs": [],
   "source": [
    "# Mount Google Drive in the current Colab session\n",
    "drive.mount('/content/drive')"
   ]
  },
  {
   "cell_type": "code",
   "execution_count": null,
   "metadata": {
    "colab": {
     "base_uri": "https://localhost:8080/"
    },
    "id": "Jf2f9YojJcb4",
    "outputId": "058229cb-a0ba-4078-84bf-3f7b5e997f0e"
   },
   "outputs": [],
   "source": [
    "# Unzip the file\n",
    "with zipfile.ZipFile(zip_file_name, 'r') as zip_ref:\n",
    "    zip_ref.extractall(extracted_dir)\n",
    "\n",
    "# Define paths to train and test folders\n",
    "train_folder = os.path.join(extracted_dir, 'New folder', 'Train')\n",
    "test_folder = os.path.join(extracted_dir, 'New folder', 'Test')\n",
    "\n",
    "# List the contents of the train and test folders\n",
    "print(f'Contents of {train_folder}: {os.listdir(train_folder)}')\n",
    "print(f'Contents of {test_folder}: {os.listdir(test_folder)}')\n",
    "\n",
    "# Create data generators\n",
    "batch_size = 64"
   ]
  },
  {
   "cell_type": "code",
   "execution_count": null,
   "metadata": {
    "colab": {
     "base_uri": "https://localhost:8080/"
    },
    "id": "G9JT_4ZdJcjt",
    "outputId": "0d3d8caa-1917-499c-af41-114e0e22fb37"
   },
   "outputs": [],
   "source": [
    "train_datagen = ImageDataGenerator(\n",
    "    rescale=1./255,         # Rescale pixel values to the range [0,1]\n",
    "    shear_range=0.3,        # Shear augmentation with a shear intensity of 0.3\n",
    "    zoom_range=0.3,         # Zoom augmentation with a zoom range of 0.3\n",
    "    horizontal_flip=True    # Horizontal flip augmentation\n",
    ")\n",
    "\n",
    "# ImageDataGenerator for rescaling testing images\n",
    "test_datagen = ImageDataGenerator(rescale=1./255)\n",
    "\n",
    "# Flow training images in batches from the specified directory\n",
    "train_generator = train_datagen.flow_from_directory(\n",
    "    train_folder,                        # Path to the directory containing training images\n",
    "    target_size=(224, 224),              # Resize images to (224, 224) pixels\n",
    "    batch_size=batch_size,               # Number of images in each batch\n",
    "    class_mode='binary'                  # Binary classification, assuming two classes\n",
    ")\n",
    "\n",
    "# Flow testing images in batches from the specified directory for validation\n",
    "validation_generator = test_datagen.flow_from_directory(\n",
    "    test_folder,            \n",
    "    target_size=(224, 224), \n",
    "    batch_size=batch_size,  \n",
    "    class_mode='binary'     \n",
    ")"
   ]
  },
  {
   "cell_type": "code",
   "execution_count": null,
   "metadata": {
    "colab": {
     "background_save": true,
     "base_uri": "https://localhost:8080/"
    },
    "id": "vmcolfaUJitp",
    "outputId": "b7c56521-2e4e-4fdc-abb3-6c11dd229f00"
   },
   "outputs": [],
   "source": [
    "# Load pre-trained ResNet50 model\n",
    "base_model = ResNet50(weights='imagenet', include_top=False, input_shape=(224, 224, 3))\n",
    "\n",
    "# Freeze the layers of the pre-trained model\n",
    "for layer in base_model.layers:\n",
    "    layer.trainable = True\n",
    "\n",
    "# Create your custom model\n",
    "model = models.Sequential()\n",
    "model.add(base_model)\n",
    "model.add(layers.Flatten())\n",
    "model.add(layers.Dense(128, activation='relu'))\n",
    "model.add(layers.Dropout(0.3))\n",
    "model.add(layers.Dense(1, activation='sigmoid'))\n",
    "\n",
    "# Compile the model\n",
    "optimizer = tf.keras.optimizers.Adam(learning_rate=0.0001)\n",
    "model.compile(optimizer=optimizer, loss='binary_crossentropy', metrics=['accuracy'])\n",
    "\n",
    "# Train the model\n",
    "epochs = 25\n",
    "history = model.fit(\n",
    "    train_generator,\n",
    "    steps_per_epoch=len(train_generator),\n",
    "    epochs=epochs,\n",
    "    validation_data=validation_generator,\n",
    "    validation_steps=len(validation_generator)\n",
    ")"
   ]
  },
  {
   "cell_type": "code",
   "execution_count": null,
   "metadata": {
    "colab": {
     "background_save": true
    },
    "id": "uuNAFj_jJiw0"
   },
   "outputs": [],
   "source": [
    "# Evaluate the model on the test set\n",
    "test_loss, test_accuracy = model.evaluate(validation_generator)\n",
    "print(f'Test Loss: {test_loss:.4f}')\n",
    "print(f'Test Accuracy: {test_accuracy * 100:.2f}%')"
   ]
  },
  {
   "cell_type": "code",
   "execution_count": null,
   "metadata": {
    "colab": {
     "background_save": true
    },
    "id": "Y1kmlpL2qQJt"
   },
   "outputs": [],
   "source": [
    "# Save the entire model to a file\n",
    "model.save('your_model.h5')\n",
    "\n",
    "# Download the saved model file\n",
    "files.download('your_model.h5')"
   ]
  }
 ],
 "metadata": {
  "accelerator": "GPU",
  "colab": {
   "provenance": []
  },
  "kernelspec": {
   "display_name": "Python 3 (ipykernel)",
   "language": "python",
   "name": "python3"
  },
  "language_info": {
   "codemirror_mode": {
    "name": "ipython",
    "version": 3
   },
   "file_extension": ".py",
   "mimetype": "text/x-python",
   "name": "python",
   "nbconvert_exporter": "python",
   "pygments_lexer": "ipython3",
   "version": "3.8.10"
  }
 },
 "nbformat": 4,
 "nbformat_minor": 4
}
