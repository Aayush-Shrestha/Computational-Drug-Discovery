import pandas as pd
from rdkit import Chem
from rdkit.Chem import AllChem,Descriptors
import seaborn as sns
import matplotlib.pyplot as plt
from skimpy import skim
from sklearn.ensemble import RandomForestClassifier
from sklearn.model_selection import train_test_split
from sklearn.preprocessing import MinMaxScaler
from sklearn.metrics import accuracy_score, confusion_matrix


data = pd.read_csv('Data1.csv')


skim(data)


data = data[['canonical_smiles', 'standard_value','target']]
data['standard_value'] = pd.to_numeric(data['standard_value'])
data = data.dropna()


plt.figure(figsize=(8, 6))
sns.countplot(x='target', data=data)
plt.xlabel('Target')
plt.ylabel('Count')
plt.title('Count Plot for Target Column')
plt.show()


def generate_descriptors(smiles):
    mol = Chem.MolFromSmiles(smiles)
    mol = Chem.AddHs(mol)
    AllChem.Compute2DCoords(mol)
    descriptors = [Descriptors.MolWt(mol), Descriptors.MolLogP(mol), Descriptors.NumHDonors(mol), Descriptors.NumHAcceptors(mol)]
    return descriptors


data['descriptors'] = data['canonical_smiles'].apply(generate_descriptors)
data[['MW', 'LogP', 'NumHDonors', 'NumHAcceptors']] = pd.DataFrame(data['descriptors'].tolist(), index=data.index)


min_value = data['standard_value'].min()
max_value = data['standard_value'].max()

data['scaled_value'] = (data['standard_value'] - min_value) / (max_value - min_value)


data.head()


data = data.drop(['canonical_smiles', 'descriptors', 'scaled_value'], axis=1)
sns.pairplot(data = data,hue ='target')


X = data.drop('target', axis=1)
y = data['target']

X_train, X_test, y_train, y_test = train_test_split(X, y, test_size=0.2, random_state=42)


scaler = MinMaxScaler()
X_train_scaled = scaler.fit_transform(X_train)
X_test_scaled = scaler.transform(X_test)


classifier = RandomForestClassifier(n_estimators=100,class_weight='balanced', random_state=42)

classifier.fit(X_train_scaled, y_train)

y_pred = classifier.predict(X_test_scaled)


accuracy = accuracy_score(y_test, y_pred)
print(f'Accuracy: {accuracy}')

conf_matrix = confusion_matrix(y_test, y_pred)
print('Confusion Matrix:')
print(conf_matrix)


plt.figure(figsize=(8, 6))
sns.heatmap(conf_matrix, annot=True, fmt='d', cmap='magma', xticklabels=classifier.classes_, yticklabels=classifier.classes_)
plt.xlabel('Predicted')
plt.ylabel('Actual')
plt.title('Confusion Matrix')
plt.show()



