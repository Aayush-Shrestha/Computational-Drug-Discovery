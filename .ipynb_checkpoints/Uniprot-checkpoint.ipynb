{
 "cells": [
  {
   "cell_type": "code",
   "execution_count": 1,
   "id": "cf277889",
   "metadata": {},
   "outputs": [
    {
     "name": "stdout",
     "output_type": "stream",
     "text": [
      "Genetic Sequence from UniProt: MNPNQKIITIGSICLVVGLISLILQIGNIISIWISHSIQTGSQNHTGICNQNIITYKNST\n",
      "WVKDTTSVILTGNSSLCPIRGWAIYSKDNSIRIGSKGDVFVIREPFISCSHLECRTFFLT\n",
      "QGALLNDKHSNGTVKDRSPYRALMSCPVGEAPSPYNSRFESVAWSASACHDGMGWLTIGI\n",
      "SGPDNGAVAVLKYNGIITETIKSWRKKILRTQESECACVNGSCFTIMTDGPSDGLASYKI\n",
      "FKIEKGKVTKSIELNAPNSHYEECSCYPDTGKVMCVCRDNWHGSNRPWVSFDQNLDYQIG\n",
      "YICSGVFGDNPRPEDGTGSCGPVYVDGANGVKGFSYRYGNGVWIGRTKSHSSRHGFEMIW\n",
      "DPNGWTETDSKFSVRQDVVAMTDWSGYSGSFVQHPELTGLDCMRPCFWVELIRGRPKEKT\n",
      "IWTSASSISFCGVNSDTVDWSWPDGAELPFSIDK\n",
      "\n"
     ]
    }
   ],
   "source": [
    "import requests\n",
    "\n",
    "def get_uniprot_sequence(uniprot_id):\n",
    "    try:\n",
    "        uniprot_url = f'https://www.uniprot.org/uniprot/{uniprot_id}.fasta'\n",
    "        response = requests.get(uniprot_url)\n",
    "        response.raise_for_status()\n",
    "        # Parse the FASTA format to extract the sequence\n",
    "        sequence = '\\n'.join(response.text.split('\\n')[1:])\n",
    "        return sequence\n",
    "    except requests.exceptions.HTTPError as http_err:\n",
    "        print(f'HTTP error occurred: {http_err}')\n",
    "    except Exception as err:\n",
    "        print(f'An error occurred: {err}')\n",
    "\n",
    "# Example usage\n",
    "uniprot_id = 'P03468'  # Replace with the actual UniProt ID\n",
    "sequence = get_uniprot_sequence(uniprot_id)\n",
    "print(f'Genetic Sequence from UniProt: {sequence}')"
   ]
  },
  {
   "cell_type": "code",
   "execution_count": null,
   "id": "48098f17",
   "metadata": {},
   "outputs": [],
   "source": []
  }
 ],
 "metadata": {
  "kernelspec": {
   "display_name": "Python 3 (ipykernel)",
   "language": "python",
   "name": "python3"
  },
  "language_info": {
   "codemirror_mode": {
    "name": "ipython",
    "version": 3
   },
   "file_extension": ".py",
   "mimetype": "text/x-python",
   "name": "python",
   "nbconvert_exporter": "python",
   "pygments_lexer": "ipython3",
   "version": "3.8.10"
  }
 },
 "nbformat": 4,
 "nbformat_minor": 5
}
